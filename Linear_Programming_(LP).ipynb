{
  "nbformat": 4,
  "nbformat_minor": 0,
  "metadata": {
    "colab": {
      "name": "Linear Programming (LP).ipynb",
      "provenance": [],
      "authorship_tag": "ABX9TyPBMHn5/2UAQWrv0QV9Kn+Y",
      "include_colab_link": true
    },
    "kernelspec": {
      "name": "python3",
      "display_name": "Python 3"
    },
    "language_info": {
      "name": "python"
    }
  },
  "cells": [
    {
      "cell_type": "markdown",
      "metadata": {
        "id": "view-in-github",
        "colab_type": "text"
      },
      "source": [
        "<a href=\"https://colab.research.google.com/github/jasonfangmagic/Optimization/blob/main/Linear_Programming_(LP).ipynb\" target=\"_parent\"><img src=\"https://colab.research.google.com/assets/colab-badge.svg\" alt=\"Open In Colab\"/></a>"
      ]
    },
    {
      "cell_type": "code",
      "execution_count": 1,
      "metadata": {
        "id": "v2flH0IECNCn"
      },
      "outputs": [],
      "source": [
        "import pandas as pd \n",
        "import numpy as np \n",
        "import tensorflow as tf \n",
        "import matplotlib.pyplot as plt \n",
        "import seaborn as sns \n",
        "from tensorflow import keras"
      ]
    },
    {
      "cell_type": "code",
      "source": [
        "name = ['Jason',' Fang']\n",
        "mark = [9, 10, 12]"
      ],
      "metadata": {
        "id": "QR2Qp6DqDxp_"
      },
      "execution_count": 2,
      "outputs": []
    },
    {
      "cell_type": "code",
      "source": [
        "name[0]"
      ],
      "metadata": {
        "colab": {
          "base_uri": "https://localhost:8080/",
          "height": 36
        },
        "id": "4g8WnUF9OCoL",
        "outputId": "ba8a8a42-5928-4cff-f928-f7aded5b3100"
      },
      "execution_count": 3,
      "outputs": [
        {
          "output_type": "execute_result",
          "data": {
            "text/plain": [
              "'Jason'"
            ],
            "application/vnd.google.colaboratory.intrinsic+json": {
              "type": "string"
            }
          },
          "metadata": {},
          "execution_count": 3
        }
      ]
    },
    {
      "cell_type": "code",
      "source": [
        "sum(mark)"
      ],
      "metadata": {
        "colab": {
          "base_uri": "https://localhost:8080/"
        },
        "id": "419ZDulxOLb4",
        "outputId": "c75b8715-96b3-4554-9673-0b1368cc43b8"
      },
      "execution_count": 4,
      "outputs": [
        {
          "output_type": "execute_result",
          "data": {
            "text/plain": [
              "31"
            ]
          },
          "metadata": {},
          "execution_count": 4
        }
      ]
    },
    {
      "cell_type": "code",
      "source": [
        "name = ('Jason',' Fang')"
      ],
      "metadata": {
        "id": "sTar0tePOT3K"
      },
      "execution_count": 5,
      "outputs": []
    },
    {
      "cell_type": "code",
      "source": [
        "#dictionary\n",
        "student = {'name':['Jason', 'Fang'],\n",
        "           'mark':[9, 10]}"
      ],
      "metadata": {
        "id": "BFv6CTLWVE5y"
      },
      "execution_count": 6,
      "outputs": []
    },
    {
      "cell_type": "code",
      "source": [
        "student['name'][0]"
      ],
      "metadata": {
        "colab": {
          "base_uri": "https://localhost:8080/",
          "height": 36
        },
        "id": "folm3lXPVseg",
        "outputId": "062835d7-71a4-485d-83a7-91f6a97b0e3a"
      },
      "execution_count": 7,
      "outputs": [
        {
          "output_type": "execute_result",
          "data": {
            "text/plain": [
              "'Jason'"
            ],
            "application/vnd.google.colaboratory.intrinsic+json": {
              "type": "string"
            }
          },
          "metadata": {},
          "execution_count": 7
        }
      ]
    },
    {
      "cell_type": "code",
      "source": [
        "x = 23"
      ],
      "metadata": {
        "id": "kauRzaSxV05U"
      },
      "execution_count": 8,
      "outputs": []
    },
    {
      "cell_type": "code",
      "source": [
        "#if\n",
        "if x < 10:\n",
        "  print('condition 1')\n",
        "elif x > 20:\n",
        "  print('condition 3')\n",
        "else: print('condition 2')"
      ],
      "metadata": {
        "colab": {
          "base_uri": "https://localhost:8080/"
        },
        "id": "W3ODseboXMXd",
        "outputId": "8dcfb260-4ba7-41a0-94a0-778132849aab"
      },
      "execution_count": 9,
      "outputs": [
        {
          "output_type": "stream",
          "name": "stdout",
          "text": [
            "condition 3\n"
          ]
        }
      ]
    },
    {
      "cell_type": "code",
      "source": [
        "print('condition 4') if x <10 else print('condition 0')"
      ],
      "metadata": {
        "colab": {
          "base_uri": "https://localhost:8080/"
        },
        "id": "AmL4cvHJXVOI",
        "outputId": "8ca330d1-d2b3-4fdf-f76b-26cb8267ae17"
      },
      "execution_count": 10,
      "outputs": [
        {
          "output_type": "stream",
          "name": "stdout",
          "text": [
            "condition 0\n"
          ]
        }
      ]
    },
    {
      "cell_type": "code",
      "source": [
        "# for loops \n",
        "ages = [10, 15, 20, 25, 30]"
      ],
      "metadata": {
        "id": "ml4GzhwzYQz4"
      },
      "execution_count": 11,
      "outputs": []
    },
    {
      "cell_type": "code",
      "source": [
        "for age in range(1, 11):\n",
        "  if age %2 == 0:\n",
        "    print(age)"
      ],
      "metadata": {
        "colab": {
          "base_uri": "https://localhost:8080/"
        },
        "id": "uq7gvvR1cFD0",
        "outputId": "66eaf01e-1de5-4094-9aa2-2c0ebf60c42a"
      },
      "execution_count": 12,
      "outputs": [
        {
          "output_type": "stream",
          "name": "stdout",
          "text": [
            "2\n",
            "4\n",
            "6\n",
            "8\n",
            "10\n"
          ]
        }
      ]
    },
    {
      "cell_type": "code",
      "source": [
        "[print(age)if age%2 == 0 else print('hi') for age in ages] "
      ],
      "metadata": {
        "colab": {
          "base_uri": "https://localhost:8080/"
        },
        "id": "lGGhycEzcQPW",
        "outputId": "4db160c8-bc11-445f-a8fa-ed12f2b99554"
      },
      "execution_count": 13,
      "outputs": [
        {
          "output_type": "stream",
          "name": "stdout",
          "text": [
            "10\n",
            "hi\n",
            "20\n",
            "hi\n",
            "30\n"
          ]
        },
        {
          "output_type": "execute_result",
          "data": {
            "text/plain": [
              "[None, None, None, None, None]"
            ]
          },
          "metadata": {},
          "execution_count": 13
        }
      ]
    },
    {
      "cell_type": "code",
      "source": [
        "count = 0 \n",
        "while count<10:\n",
        "  print(count)\n",
        "  count += 1"
      ],
      "metadata": {
        "colab": {
          "base_uri": "https://localhost:8080/"
        },
        "id": "VprEMAJxdqNy",
        "outputId": "378d28ee-3d7a-4885-8088-c75c63647bcb"
      },
      "execution_count": 14,
      "outputs": [
        {
          "output_type": "stream",
          "name": "stdout",
          "text": [
            "0\n",
            "1\n",
            "2\n",
            "3\n",
            "4\n",
            "5\n",
            "6\n",
            "7\n",
            "8\n",
            "9\n"
          ]
        }
      ]
    },
    {
      "cell_type": "code",
      "source": [
        "#function\n",
        "def my_function(x,y):\n",
        "  mySum = x + y \n",
        "  if mySum > 10:\n",
        "      mySum = 0\n",
        "  return 2*mySum"
      ],
      "metadata": {
        "id": "MC2foFufeXYm"
      },
      "execution_count": 15,
      "outputs": []
    },
    {
      "cell_type": "code",
      "source": [
        "a = my_function(3,4)"
      ],
      "metadata": {
        "id": "4GkdDSqifpCg"
      },
      "execution_count": 16,
      "outputs": []
    },
    {
      "cell_type": "code",
      "source": [
        "a"
      ],
      "metadata": {
        "colab": {
          "base_uri": "https://localhost:8080/"
        },
        "id": "0JcfTvZGfzMg",
        "outputId": "008f2035-cd2a-481f-b699-fcd6137fe737"
      },
      "execution_count": 17,
      "outputs": [
        {
          "output_type": "execute_result",
          "data": {
            "text/plain": [
              "14"
            ]
          },
          "metadata": {},
          "execution_count": 17
        }
      ]
    },
    {
      "cell_type": "markdown",
      "source": [
        "1. Mayke wish to define the best investments that he should make with his money. He has a total of 100,000 USD and the following options for investment.\n",
        "A) Low risk fund with historical gains of 5% per year\n",
        "B) Medium risk fund with historical gains 10% per year\n",
        "C) High risk fund with historical gains of 12% per year\n",
        "Mayke wish to control the risk of his investments with maximum of 10% of his money in the investment with high risk, 20% in the investment with medium risk.\n",
        "Which is the decision of investments in A, B, and C that maximize the return of investment for Mayke?"
      ],
      "metadata": {
        "id": "whlkNeBZNk8R"
      }
    },
    {
      "cell_type": "code",
      "source": [
        "pip install pyomo"
      ],
      "metadata": {
        "colab": {
          "base_uri": "https://localhost:8080/"
        },
        "id": "gUiAs-jQV4mD",
        "outputId": "ea1198b7-f58c-488d-ff4c-d583f737c06e"
      },
      "execution_count": null,
      "outputs": [
        {
          "output_type": "stream",
          "name": "stdout",
          "text": [
            "Collecting pyomo\n",
            "  Downloading Pyomo-6.4.1-cp37-cp37m-manylinux_2_12_x86_64.manylinux2010_x86_64.whl (9.6 MB)\n",
            "\u001b[K     |████████████████████████████████| 9.6 MB 2.9 MB/s \n",
            "\u001b[?25hCollecting ply\n",
            "  Downloading ply-3.11-py2.py3-none-any.whl (49 kB)\n",
            "\u001b[K     |████████████████████████████████| 49 kB 5.2 MB/s \n",
            "\u001b[?25hInstalling collected packages: ply, pyomo\n"
          ]
        }
      ]
    },
    {
      "cell_type": "code",
      "source": [
        "pip install GurobiPy"
      ],
      "metadata": {
        "id": "NpTGpvGQAIoh"
      },
      "execution_count": null,
      "outputs": []
    },
    {
      "cell_type": "code",
      "source": [
        "import pyomo.environ as pyo\n",
        "from pyomo.opt import SolverFactory\n",
        "\n",
        "m = pyo.ConcreteModel()\n",
        "\n",
        "#sets and paramenters\n",
        "m.setInv = pyo.Set(initialize=['A','B','C'])\n",
        "m.Capital = 100000\n",
        "\n",
        "#variables\n",
        "m.C = pyo.Var(m.setInv, bounds=(0,None))\n",
        "m.R = pyo.Var(m.setInv, bounds=(0,None))\n",
        "\n",
        "#objective function\n",
        "m.obj = pyo.Objective(expr = pyo.summation(m.R), sense=pyo.maximize)\n",
        "\n",
        "#constraints\n",
        "m.C1 = pyo.Constraint(expr = pyo.summation(m.C) == m.Capital)\n",
        "m.C2 = pyo.Constraint(expr = m.R['A'] == 0.05*m.C['A'])\n",
        "m.C3 = pyo.Constraint(expr = m.R['B'] == 0.10*m.C['B'])\n",
        "m.C4 = pyo.Constraint(expr = m.R['C'] == 0.12*m.C['C'])\n",
        "m.C5 = pyo.Constraint(expr = m.C['B'] <= 0.2*m.Capital)\n",
        "m.C6 = pyo.Constraint(expr = m.C['C'] <= 0.1*m.Capital)\n",
        "\n",
        "#solve\n",
        "opt = SolverFactory('gurobi')\n",
        "m.results = opt.solve(m)\n",
        "\n",
        "#print\n",
        "m.pprint()\n",
        "print('\\n\\nOF:',pyo.value(m.obj))"
      ],
      "metadata": {
        "id": "fY0apytiNm9v"
      },
      "execution_count": null,
      "outputs": []
    },
    {
      "cell_type": "markdown",
      "source": [
        "Wiht Binary Constraints"
      ],
      "metadata": {
        "id": "dszHJ7RusT2G"
      }
    },
    {
      "cell_type": "code",
      "source": [
        "import pyomo.environ pyo\n",
        "from pyomo.opt import SolverFactory"
      ],
      "metadata": {
        "id": "UuE-PYbZtEdU"
      },
      "execution_count": null,
      "outputs": []
    },
    {
      "cell_type": "code",
      "source": [
        "import pyomo.environ as pyo\n",
        "from pyomo.opt import SolverFactory\n",
        "\n",
        "m = pyo.ConcreteModel()\n",
        "\n",
        "#sets and paramenters\n",
        "m.setInv = pyo.Set(initialize=['A','B','C'])\n",
        "m.Capital = 100000\n",
        "\n",
        "#variables\n",
        "m.C = pyo.Var(m.setInv, bounds=(0,None))\n",
        "m.R = pyo.Var(m.setInv, bounds=(0,None))\n",
        "\n",
        "#objective function\n",
        "m.obj = pyo.Objective(expr = pyo.summation(m.R), sense=pyo.maximize)\n",
        "\n",
        "#constraints\n",
        "m.C1 = pyo.Constraint(expr = pyo.summation(m.C) == m.Capital)\n",
        "m.C2 = pyo.Constraint(expr = m.R['A'] == 0.05*m.C['A'])\n",
        "m.C3 = pyo.Constraint(expr = m.R['B'] == 0.10*m.C['B'])\n",
        "m.C4 = pyo.Constraint(expr = m.R['C'] == 0.12*m.C['C'])\n",
        "m.C5 = pyo.Constraint(expr = m.C['B'] <= 0.2*m.Capital)\n",
        "m.C6 = pyo.Constraint(expr = m.C['C'] <= 0.1*m.Capital)\n",
        "\n",
        "#solve\n",
        "opt = SolverFactory('gurobi')\n",
        "m.results = opt.solve(m)\n",
        "\n",
        "#print\n",
        "m.pprint()\n",
        "print('\\n\\nOF:',pyo.value(m.obj))"
      ],
      "metadata": {
        "id": "uEwLkvwSsGfK"
      },
      "execution_count": null,
      "outputs": []
    }
  ]
}