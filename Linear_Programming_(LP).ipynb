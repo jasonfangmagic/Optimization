{
  "nbformat": 4,
  "nbformat_minor": 0,
  "metadata": {
    "colab": {
      "name": "Linear Programming (LP).ipynb",
      "provenance": [],
      "collapsed_sections": [],
      "authorship_tag": "ABX9TyPmpJKV9gdnfMQSGsH40kfZ",
      "include_colab_link": true
    },
    "kernelspec": {
      "name": "python3",
      "display_name": "Python 3"
    },
    "language_info": {
      "name": "python"
    }
  },
  "cells": [
    {
      "cell_type": "markdown",
      "metadata": {
        "id": "view-in-github",
        "colab_type": "text"
      },
      "source": [
        "<a href=\"https://colab.research.google.com/github/jasonfangmagic/Optimization/blob/main/Linear_Programming_(LP).ipynb\" target=\"_parent\"><img src=\"https://colab.research.google.com/assets/colab-badge.svg\" alt=\"Open In Colab\"/></a>"
      ]
    },
    {
      "cell_type": "code",
      "execution_count": 62,
      "metadata": {
        "id": "v2flH0IECNCn"
      },
      "outputs": [],
      "source": [
        "import pandas as pd \n",
        "import numpy as np \n",
        "import tensorflow as tf \n",
        "import matplotlib.pyplot as plt \n",
        "import seaborn as sns \n",
        "from tensorflow import keras\n",
        "\n",
        "#pip install pyomo\n",
        "#pip install GurobiPy"
      ]
    },
    {
      "cell_type": "code",
      "source": [
        "name = ['Jason',' Fang']\n",
        "mark = [9, 10, 12]"
      ],
      "metadata": {
        "id": "QR2Qp6DqDxp_"
      },
      "execution_count": 63,
      "outputs": []
    },
    {
      "cell_type": "code",
      "source": [
        "name[0]"
      ],
      "metadata": {
        "colab": {
          "base_uri": "https://localhost:8080/",
          "height": 36
        },
        "id": "4g8WnUF9OCoL",
        "outputId": "028b5aae-7aee-4675-bea9-6aaea36f305e"
      },
      "execution_count": 64,
      "outputs": [
        {
          "output_type": "execute_result",
          "data": {
            "text/plain": [
              "'Jason'"
            ],
            "application/vnd.google.colaboratory.intrinsic+json": {
              "type": "string"
            }
          },
          "metadata": {},
          "execution_count": 64
        }
      ]
    },
    {
      "cell_type": "code",
      "source": [
        "sum(mark)"
      ],
      "metadata": {
        "colab": {
          "base_uri": "https://localhost:8080/"
        },
        "id": "419ZDulxOLb4",
        "outputId": "99ef5cbf-a8f8-4558-fdca-652df86d6867"
      },
      "execution_count": 65,
      "outputs": [
        {
          "output_type": "execute_result",
          "data": {
            "text/plain": [
              "31"
            ]
          },
          "metadata": {},
          "execution_count": 65
        }
      ]
    },
    {
      "cell_type": "code",
      "source": [
        "name = ('Jason',' Fang')"
      ],
      "metadata": {
        "id": "sTar0tePOT3K"
      },
      "execution_count": 66,
      "outputs": []
    },
    {
      "cell_type": "code",
      "source": [
        "#dictionary\n",
        "student = {'name':['Jason', 'Fang'],\n",
        "           'mark':[9, 10]}"
      ],
      "metadata": {
        "id": "BFv6CTLWVE5y"
      },
      "execution_count": 67,
      "outputs": []
    },
    {
      "cell_type": "code",
      "source": [
        "student['name'][0]"
      ],
      "metadata": {
        "colab": {
          "base_uri": "https://localhost:8080/",
          "height": 36
        },
        "id": "folm3lXPVseg",
        "outputId": "5db799c3-70cb-49a8-cf3d-f6bf226764c3"
      },
      "execution_count": 68,
      "outputs": [
        {
          "output_type": "execute_result",
          "data": {
            "text/plain": [
              "'Jason'"
            ],
            "application/vnd.google.colaboratory.intrinsic+json": {
              "type": "string"
            }
          },
          "metadata": {},
          "execution_count": 68
        }
      ]
    },
    {
      "cell_type": "code",
      "source": [
        "x = 23"
      ],
      "metadata": {
        "id": "kauRzaSxV05U"
      },
      "execution_count": 69,
      "outputs": []
    },
    {
      "cell_type": "code",
      "source": [
        "#if\n",
        "if x < 10:\n",
        "  print('condition 1')\n",
        "elif x > 20:\n",
        "  print('condition 3')\n",
        "else: print('condition 2')"
      ],
      "metadata": {
        "colab": {
          "base_uri": "https://localhost:8080/"
        },
        "id": "W3ODseboXMXd",
        "outputId": "90301a66-366c-485f-adf4-35499bcaaa11"
      },
      "execution_count": 70,
      "outputs": [
        {
          "output_type": "stream",
          "name": "stdout",
          "text": [
            "condition 3\n"
          ]
        }
      ]
    },
    {
      "cell_type": "code",
      "source": [
        "print('condition 4') if x <10 else print('condition 0')"
      ],
      "metadata": {
        "colab": {
          "base_uri": "https://localhost:8080/"
        },
        "id": "AmL4cvHJXVOI",
        "outputId": "06b7bba2-0dde-4b99-88a6-f999df5534f7"
      },
      "execution_count": 71,
      "outputs": [
        {
          "output_type": "stream",
          "name": "stdout",
          "text": [
            "condition 0\n"
          ]
        }
      ]
    },
    {
      "cell_type": "code",
      "source": [
        "# for loops \n",
        "ages = [10, 15, 20, 25, 30]"
      ],
      "metadata": {
        "id": "ml4GzhwzYQz4"
      },
      "execution_count": 72,
      "outputs": []
    },
    {
      "cell_type": "code",
      "source": [
        "for age in range(1, 11):\n",
        "  if age %2 == 0:\n",
        "    print(age)"
      ],
      "metadata": {
        "colab": {
          "base_uri": "https://localhost:8080/"
        },
        "id": "uq7gvvR1cFD0",
        "outputId": "82e9740d-4f26-4a5a-d120-10560a51228d"
      },
      "execution_count": 73,
      "outputs": [
        {
          "output_type": "stream",
          "name": "stdout",
          "text": [
            "2\n",
            "4\n",
            "6\n",
            "8\n",
            "10\n"
          ]
        }
      ]
    },
    {
      "cell_type": "code",
      "source": [
        "[print(age)if age%2 == 0 else print('hi') for age in ages] "
      ],
      "metadata": {
        "colab": {
          "base_uri": "https://localhost:8080/"
        },
        "id": "lGGhycEzcQPW",
        "outputId": "767accd5-1924-4596-bee1-2d93c21ca090"
      },
      "execution_count": 74,
      "outputs": [
        {
          "output_type": "stream",
          "name": "stdout",
          "text": [
            "10\n",
            "hi\n",
            "20\n",
            "hi\n",
            "30\n"
          ]
        },
        {
          "output_type": "execute_result",
          "data": {
            "text/plain": [
              "[None, None, None, None, None]"
            ]
          },
          "metadata": {},
          "execution_count": 74
        }
      ]
    },
    {
      "cell_type": "code",
      "source": [
        "count = 0 \n",
        "while count<10:\n",
        "  print(count)\n",
        "  count += 1"
      ],
      "metadata": {
        "colab": {
          "base_uri": "https://localhost:8080/"
        },
        "id": "VprEMAJxdqNy",
        "outputId": "74b62bc7-b664-45aa-caf7-c4b4c99b199a"
      },
      "execution_count": 75,
      "outputs": [
        {
          "output_type": "stream",
          "name": "stdout",
          "text": [
            "0\n",
            "1\n",
            "2\n",
            "3\n",
            "4\n",
            "5\n",
            "6\n",
            "7\n",
            "8\n",
            "9\n"
          ]
        }
      ]
    },
    {
      "cell_type": "code",
      "source": [
        "#function\n",
        "def my_function(x,y):\n",
        "  mySum = x + y \n",
        "  if mySum > 10:\n",
        "      mySum = 0\n",
        "  return 2*mySum"
      ],
      "metadata": {
        "id": "MC2foFufeXYm"
      },
      "execution_count": 76,
      "outputs": []
    },
    {
      "cell_type": "code",
      "source": [
        "a = my_function(3,4)"
      ],
      "metadata": {
        "id": "4GkdDSqifpCg"
      },
      "execution_count": 77,
      "outputs": []
    },
    {
      "cell_type": "code",
      "source": [
        "a"
      ],
      "metadata": {
        "colab": {
          "base_uri": "https://localhost:8080/"
        },
        "id": "0JcfTvZGfzMg",
        "outputId": "033f6412-6b42-418f-82bb-1c6c2294f12c"
      },
      "execution_count": 78,
      "outputs": [
        {
          "output_type": "execute_result",
          "data": {
            "text/plain": [
              "14"
            ]
          },
          "metadata": {},
          "execution_count": 78
        }
      ]
    },
    {
      "cell_type": "markdown",
      "source": [
        "1. Mayke wish to define the best investments that he should make with his money. He has a total of 100,000 USD and the following options for investment.\n",
        "A) Low risk fund with historical gains of 5% per year\n",
        "B) Medium risk fund with historical gains 10% per year\n",
        "C) High risk fund with historical gains of 12% per year\n",
        "Mayke wish to control the risk of his investments with maximum of 10% of his money in the investment with high risk, 20% in the investment with medium risk.\n",
        "Which is the decision of investments in A, B, and C that maximize the return of investment for Mayke?"
      ],
      "metadata": {
        "id": "whlkNeBZNk8R"
      }
    },
    {
      "cell_type": "code",
      "source": [
        "import pyomo.environ as pyo\n",
        "from pyomo.opt import SolverFactory\n",
        "\n",
        "m = pyo.ConcreteModel()\n",
        "\n",
        "#sets and paramenters\n",
        "m.setInv = pyo.Set(initialize=['A','B','C'])\n",
        "m.Capital = 100000\n",
        "\n",
        "#variables\n",
        "m.C = pyo.Var(m.setInv, bounds=(0,None))\n",
        "m.R = pyo.Var(m.setInv, bounds=(0,None))\n",
        "\n",
        "#objective function\n",
        "m.obj = pyo.Objective(expr = pyo.summation(m.R), sense=pyo.maximize)\n",
        "\n",
        "#constraints\n",
        "m.C1 = pyo.Constraint(expr = pyo.summation(m.C) == m.Capital)\n",
        "m.C2 = pyo.Constraint(expr = m.R['A'] == 0.05*m.C['A'])\n",
        "m.C3 = pyo.Constraint(expr = m.R['B'] == 0.10*m.C['B'])\n",
        "m.C4 = pyo.Constraint(expr = m.R['C'] == 0.12*m.C['C'])\n",
        "m.C5 = pyo.Constraint(expr = m.C['B'] <= 0.2*m.Capital)\n",
        "m.C6 = pyo.Constraint(expr = m.C['C'] <= 0.1*m.Capital)\n",
        "\n",
        "#solve\n",
        "opt = SolverFactory('gurobi')\n",
        "m.results = opt.solve(m)\n",
        "\n",
        "#print\n",
        "m.pprint()\n",
        "print('\\n\\nOF:',pyo.value(m.obj))"
      ],
      "metadata": {
        "colab": {
          "base_uri": "https://localhost:8080/"
        },
        "id": "fY0apytiNm9v",
        "outputId": "2773f66b-5ddd-42e5-d6dc-71eaf9748c7c"
      },
      "execution_count": 79,
      "outputs": [
        {
          "output_type": "stream",
          "name": "stdout",
          "text": [
            "1 Set Declarations\n",
            "    setInv : Size=1, Index=None, Ordered=Insertion\n",
            "        Key  : Dimen : Domain : Size : Members\n",
            "        None :     1 :    Any :    3 : {'A', 'B', 'C'}\n",
            "\n",
            "2 Var Declarations\n",
            "    C : Size=3, Index=setInv\n",
            "        Key : Lower : Value   : Upper : Fixed : Stale : Domain\n",
            "          A :     0 : 70000.0 :  None : False : False :  Reals\n",
            "          B :     0 : 20000.0 :  None : False : False :  Reals\n",
            "          C :     0 : 10000.0 :  None : False : False :  Reals\n",
            "    R : Size=3, Index=setInv\n",
            "        Key : Lower : Value  : Upper : Fixed : Stale : Domain\n",
            "          A :     0 : 3500.0 :  None : False : False :  Reals\n",
            "          B :     0 : 2000.0 :  None : False : False :  Reals\n",
            "          C :     0 : 1200.0 :  None : False : False :  Reals\n",
            "\n",
            "1 Objective Declarations\n",
            "    obj : Size=1, Index=None, Active=True\n",
            "        Key  : Active : Sense    : Expression\n",
            "        None :   True : maximize : R[A] + R[B] + R[C]\n",
            "\n",
            "6 Constraint Declarations\n",
            "    C1 : Size=1, Index=None, Active=True\n",
            "        Key  : Lower    : Body               : Upper    : Active\n",
            "        None : 100000.0 : C[A] + C[B] + C[C] : 100000.0 :   True\n",
            "    C2 : Size=1, Index=None, Active=True\n",
            "        Key  : Lower : Body             : Upper : Active\n",
            "        None :   0.0 : R[A] - 0.05*C[A] :   0.0 :   True\n",
            "    C3 : Size=1, Index=None, Active=True\n",
            "        Key  : Lower : Body            : Upper : Active\n",
            "        None :   0.0 : R[B] - 0.1*C[B] :   0.0 :   True\n",
            "    C4 : Size=1, Index=None, Active=True\n",
            "        Key  : Lower : Body             : Upper : Active\n",
            "        None :   0.0 : R[C] - 0.12*C[C] :   0.0 :   True\n",
            "    C5 : Size=1, Index=None, Active=True\n",
            "        Key  : Lower : Body : Upper   : Active\n",
            "        None :  -Inf : C[B] : 20000.0 :   True\n",
            "    C6 : Size=1, Index=None, Active=True\n",
            "        Key  : Lower : Body : Upper   : Active\n",
            "        None :  -Inf : C[C] : 10000.0 :   True\n",
            "\n",
            "10 Declarations: setInv C R obj C1 C2 C3 C4 C5 C6\n",
            "\n",
            "\n",
            "OF: 6700.0\n"
          ]
        }
      ]
    },
    {
      "cell_type": "markdown",
      "source": [
        "Wiht Binary Constraints"
      ],
      "metadata": {
        "id": "dszHJ7RusT2G"
      }
    },
    {
      "cell_type": "code",
      "source": [
        "import pyomo.environ as pyo\n",
        "from pyomo.opt import SolverFactory\n",
        "\n",
        "m = pyo.ConcreteModel()\n",
        "\n",
        "#sets and paramenters\n",
        "m.setInv = pyo.Set(initialize=['A','B','C'])\n",
        "m.Capital = 100000\n",
        "\n",
        "#variables\n",
        "m.C = pyo.Var(m.setInv, bounds=(0,None))\n",
        "m.R = pyo.Var(m.setInv, bounds=(0,None))\n",
        "\n",
        "#objective function\n",
        "m.obj = pyo.Objective(expr = pyo.summation(m.R), sense=pyo.maximize)\n",
        "\n",
        "#constraints\n",
        "m.C1 = pyo.Constraint(expr = pyo.summation(m.C) == m.Capital)\n",
        "m.C2 = pyo.Constraint(expr = m.R['A'] == 0.05*m.C['A'])\n",
        "m.C3 = pyo.Constraint(expr = m.R['B'] == 0.10*m.C['B'])\n",
        "m.C4 = pyo.Constraint(expr = m.R['C'] == 0.12*m.C['C'])\n",
        "m.C5 = pyo.Constraint(expr = m.C['B'] <= 0.2*m.Capital)\n",
        "m.C6 = pyo.Constraint(expr = m.C['C'] <= 0.1*m.Capital)\n",
        "\n",
        "#solve\n",
        "opt = SolverFactory('gurobi')\n",
        "m.results = opt.solve(m)\n",
        "\n",
        "#print\n",
        "m.pprint()\n",
        "print('\\n\\nOF:',pyo.value(m.obj))"
      ],
      "metadata": {
        "colab": {
          "base_uri": "https://localhost:8080/"
        },
        "id": "uEwLkvwSsGfK",
        "outputId": "e3d57c2c-ab44-45ee-d929-304f5e2b5922"
      },
      "execution_count": 80,
      "outputs": [
        {
          "output_type": "stream",
          "name": "stdout",
          "text": [
            "1 Set Declarations\n",
            "    setInv : Size=1, Index=None, Ordered=Insertion\n",
            "        Key  : Dimen : Domain : Size : Members\n",
            "        None :     1 :    Any :    3 : {'A', 'B', 'C'}\n",
            "\n",
            "2 Var Declarations\n",
            "    C : Size=3, Index=setInv\n",
            "        Key : Lower : Value   : Upper : Fixed : Stale : Domain\n",
            "          A :     0 : 70000.0 :  None : False : False :  Reals\n",
            "          B :     0 : 20000.0 :  None : False : False :  Reals\n",
            "          C :     0 : 10000.0 :  None : False : False :  Reals\n",
            "    R : Size=3, Index=setInv\n",
            "        Key : Lower : Value  : Upper : Fixed : Stale : Domain\n",
            "          A :     0 : 3500.0 :  None : False : False :  Reals\n",
            "          B :     0 : 2000.0 :  None : False : False :  Reals\n",
            "          C :     0 : 1200.0 :  None : False : False :  Reals\n",
            "\n",
            "1 Objective Declarations\n",
            "    obj : Size=1, Index=None, Active=True\n",
            "        Key  : Active : Sense    : Expression\n",
            "        None :   True : maximize : R[A] + R[B] + R[C]\n",
            "\n",
            "6 Constraint Declarations\n",
            "    C1 : Size=1, Index=None, Active=True\n",
            "        Key  : Lower    : Body               : Upper    : Active\n",
            "        None : 100000.0 : C[A] + C[B] + C[C] : 100000.0 :   True\n",
            "    C2 : Size=1, Index=None, Active=True\n",
            "        Key  : Lower : Body             : Upper : Active\n",
            "        None :   0.0 : R[A] - 0.05*C[A] :   0.0 :   True\n",
            "    C3 : Size=1, Index=None, Active=True\n",
            "        Key  : Lower : Body            : Upper : Active\n",
            "        None :   0.0 : R[B] - 0.1*C[B] :   0.0 :   True\n",
            "    C4 : Size=1, Index=None, Active=True\n",
            "        Key  : Lower : Body             : Upper : Active\n",
            "        None :   0.0 : R[C] - 0.12*C[C] :   0.0 :   True\n",
            "    C5 : Size=1, Index=None, Active=True\n",
            "        Key  : Lower : Body : Upper   : Active\n",
            "        None :  -Inf : C[B] : 20000.0 :   True\n",
            "    C6 : Size=1, Index=None, Active=True\n",
            "        Key  : Lower : Body : Upper   : Active\n",
            "        None :  -Inf : C[C] : 10000.0 :   True\n",
            "\n",
            "10 Declarations: setInv C R obj C1 C2 C3 C4 C5 C6\n",
            "\n",
            "\n",
            "OF: 6700.0\n"
          ]
        }
      ]
    }
  ]
}