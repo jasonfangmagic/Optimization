{
  "nbformat": 4,
  "nbformat_minor": 0,
  "metadata": {
    "colab": {
      "name": "Linear Programming (LP).ipynb",
      "provenance": [],
      "authorship_tag": "ABX9TyNcwlcdv0rbOVzy59z2Fffd",
      "include_colab_link": true
    },
    "kernelspec": {
      "name": "python3",
      "display_name": "Python 3"
    },
    "language_info": {
      "name": "python"
    }
  },
  "cells": [
    {
      "cell_type": "markdown",
      "metadata": {
        "id": "view-in-github",
        "colab_type": "text"
      },
      "source": [
        "<a href=\"https://colab.research.google.com/github/jasonfangmagic/Optimization/blob/main/Linear_Programming_(LP).ipynb\" target=\"_parent\"><img src=\"https://colab.research.google.com/assets/colab-badge.svg\" alt=\"Open In Colab\"/></a>"
      ]
    },
    {
      "cell_type": "code",
      "execution_count": null,
      "metadata": {
        "id": "v2flH0IECNCn"
      },
      "outputs": [],
      "source": [
        "import pandas as pd \n",
        "import numpy as np \n",
        "import tensorflow as tf \n",
        "import matplotlib.pyplot as plt \n",
        "import seaborn as sns \n",
        "from tensorflow import keras"
      ]
    },
    {
      "cell_type": "code",
      "source": [
        "name = ['Jason',' Fang']\n",
        "mark = [9, 10, 12]"
      ],
      "metadata": {
        "id": "QR2Qp6DqDxp_"
      },
      "execution_count": null,
      "outputs": []
    },
    {
      "cell_type": "code",
      "source": [
        "name[0]"
      ],
      "metadata": {
        "colab": {
          "base_uri": "https://localhost:8080/",
          "height": 36
        },
        "id": "4g8WnUF9OCoL",
        "outputId": "410c4ba6-b9b2-4c43-d1de-1bb98276cee1"
      },
      "execution_count": null,
      "outputs": [
        {
          "output_type": "execute_result",
          "data": {
            "text/plain": [
              "'Jason'"
            ],
            "application/vnd.google.colaboratory.intrinsic+json": {
              "type": "string"
            }
          },
          "metadata": {},
          "execution_count": 6
        }
      ]
    },
    {
      "cell_type": "code",
      "source": [
        "sum(mark)"
      ],
      "metadata": {
        "colab": {
          "base_uri": "https://localhost:8080/"
        },
        "id": "419ZDulxOLb4",
        "outputId": "19e028f8-d8d2-4ce6-9c43-2e1a30322a23"
      },
      "execution_count": null,
      "outputs": [
        {
          "output_type": "execute_result",
          "data": {
            "text/plain": [
              "31"
            ]
          },
          "metadata": {},
          "execution_count": 7
        }
      ]
    },
    {
      "cell_type": "code",
      "source": [
        "name = ('Jason',' Fang')"
      ],
      "metadata": {
        "id": "sTar0tePOT3K"
      },
      "execution_count": null,
      "outputs": []
    },
    {
      "cell_type": "code",
      "source": [
        "#dictionary\n",
        "student = {'name':['Jason', 'Fang'],\n",
        "           'mark':[9, 10]}"
      ],
      "metadata": {
        "id": "BFv6CTLWVE5y"
      },
      "execution_count": null,
      "outputs": []
    },
    {
      "cell_type": "code",
      "source": [
        "student['name'][0]"
      ],
      "metadata": {
        "colab": {
          "base_uri": "https://localhost:8080/",
          "height": 36
        },
        "id": "folm3lXPVseg",
        "outputId": "ddcee897-9df2-4931-a054-8917ce1fa5a7"
      },
      "execution_count": null,
      "outputs": [
        {
          "output_type": "execute_result",
          "data": {
            "text/plain": [
              "'Jason'"
            ],
            "application/vnd.google.colaboratory.intrinsic+json": {
              "type": "string"
            }
          },
          "metadata": {},
          "execution_count": 12
        }
      ]
    },
    {
      "cell_type": "code",
      "source": [
        "x = 23"
      ],
      "metadata": {
        "id": "kauRzaSxV05U"
      },
      "execution_count": null,
      "outputs": []
    },
    {
      "cell_type": "code",
      "source": [
        "#if\n",
        "if x < 10:\n",
        "  print('condition 1')\n",
        "elif x > 20:\n",
        "  print('condition 3')\n",
        "else: print('condition 2')"
      ],
      "metadata": {
        "colab": {
          "base_uri": "https://localhost:8080/"
        },
        "id": "W3ODseboXMXd",
        "outputId": "05e7b765-7bd5-41e5-cdb7-7a2229d3ad4b"
      },
      "execution_count": null,
      "outputs": [
        {
          "output_type": "stream",
          "name": "stdout",
          "text": [
            "condition 3\n"
          ]
        }
      ]
    },
    {
      "cell_type": "code",
      "source": [
        "print('condition 4') if x <10 else print('condition 0')"
      ],
      "metadata": {
        "colab": {
          "base_uri": "https://localhost:8080/"
        },
        "id": "AmL4cvHJXVOI",
        "outputId": "1f73a797-ad45-4ca5-ba1b-0f1d58b004e0"
      },
      "execution_count": null,
      "outputs": [
        {
          "output_type": "stream",
          "name": "stdout",
          "text": [
            "condition 0\n"
          ]
        }
      ]
    },
    {
      "cell_type": "code",
      "source": [
        "# for loops \n",
        "ages = [10, 15, 20, 25, 30]"
      ],
      "metadata": {
        "id": "ml4GzhwzYQz4"
      },
      "execution_count": null,
      "outputs": []
    },
    {
      "cell_type": "code",
      "source": [
        "for age in range(1, 11):\n",
        "  if age %2 == 0:\n",
        "    print(age)"
      ],
      "metadata": {
        "colab": {
          "base_uri": "https://localhost:8080/"
        },
        "id": "uq7gvvR1cFD0",
        "outputId": "aa32ca42-7b6e-4b4e-f28f-89a3535099f0"
      },
      "execution_count": null,
      "outputs": [
        {
          "output_type": "stream",
          "name": "stdout",
          "text": [
            "2\n",
            "4\n",
            "6\n",
            "8\n",
            "10\n"
          ]
        }
      ]
    },
    {
      "cell_type": "code",
      "source": [
        "[print(age)if age%2 == 0 else print('hi') for age in ages] "
      ],
      "metadata": {
        "colab": {
          "base_uri": "https://localhost:8080/"
        },
        "id": "lGGhycEzcQPW",
        "outputId": "39489cfe-f8e3-43fb-d761-5646fded2ef3"
      },
      "execution_count": null,
      "outputs": [
        {
          "output_type": "stream",
          "name": "stdout",
          "text": [
            "10\n",
            "hi\n",
            "20\n",
            "hi\n",
            "30\n"
          ]
        },
        {
          "output_type": "execute_result",
          "data": {
            "text/plain": [
              "[None, None, None, None, None]"
            ]
          },
          "metadata": {},
          "execution_count": 36
        }
      ]
    },
    {
      "cell_type": "code",
      "source": [
        "count = 0 \n",
        "while count<10:\n",
        "  print(count)\n",
        "  count += 1"
      ],
      "metadata": {
        "colab": {
          "base_uri": "https://localhost:8080/"
        },
        "id": "VprEMAJxdqNy",
        "outputId": "3c3ed10a-6a66-40e9-fc9c-7288217c9882"
      },
      "execution_count": null,
      "outputs": [
        {
          "output_type": "stream",
          "name": "stdout",
          "text": [
            "0\n",
            "1\n",
            "2\n",
            "3\n",
            "4\n",
            "5\n",
            "6\n",
            "7\n",
            "8\n",
            "9\n"
          ]
        }
      ]
    },
    {
      "cell_type": "code",
      "source": [
        "#function\n",
        "def my_function(x,y):\n",
        "  mySum = x + y \n",
        "  if mySum > 10:\n",
        "      mySum = 0\n",
        "  return 2*mySum"
      ],
      "metadata": {
        "id": "MC2foFufeXYm"
      },
      "execution_count": null,
      "outputs": []
    },
    {
      "cell_type": "code",
      "source": [
        "a = my_function(3,4)"
      ],
      "metadata": {
        "id": "4GkdDSqifpCg"
      },
      "execution_count": null,
      "outputs": []
    },
    {
      "cell_type": "code",
      "source": [
        "a"
      ],
      "metadata": {
        "colab": {
          "base_uri": "https://localhost:8080/"
        },
        "id": "0JcfTvZGfzMg",
        "outputId": "fc52625d-8a6c-4169-8587-fae73f220093"
      },
      "execution_count": null,
      "outputs": [
        {
          "output_type": "execute_result",
          "data": {
            "text/plain": [
              "14"
            ]
          },
          "metadata": {},
          "execution_count": 56
        }
      ]
    },
    {
      "cell_type": "markdown",
      "source": [
        "1. Mayke wish to define the best investments that he should make with his money. He has a total of 100,000 USD and the following options for investment.\n",
        "A) Low risk fund with historical gains of 5% per year\n",
        "B) Medium risk fund with historical gains 10% per year\n",
        "C) High risk fund with historical gains of 12% per year\n",
        "Mayke wish to control the risk of his investments with maximum of 10% of his money in the investment with high risk, 20% in the investment with medium risk.\n",
        "Which is the decision of investments in A, B, and C that maximize the return of investment for Mayke?"
      ],
      "metadata": {
        "id": "whlkNeBZNk8R"
      }
    },
    {
      "cell_type": "code",
      "source": [
        ""
      ],
      "metadata": {
        "id": "fY0apytiNm9v"
      },
      "execution_count": null,
      "outputs": []
    }
  ]
}